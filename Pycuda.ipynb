{
  "nbformat": 4,
  "nbformat_minor": 0,
  "metadata": {
    "colab": {
      "provenance": [],
      "toc_visible": true,
      "mount_file_id": "18Oo8TyYessh3AjFLGKdor3hNY4S_ytcH",
      "authorship_tag": "ABX9TyO+28tku/RgScV2V8gb1A1Y",
      "include_colab_link": true
    },
    "kernelspec": {
      "name": "python3",
      "display_name": "Python 3"
    },
    "language_info": {
      "name": "python"
    },
    "accelerator": "GPU",
    "gpuClass": "standard"
  },
  "cells": [
    {
      "cell_type": "markdown",
      "metadata": {
        "id": "view-in-github",
        "colab_type": "text"
      },
      "source": [
        "<a href=\"https://colab.research.google.com/github/KohsukeIde/Pycuda_101/blob/main/Pycuda.ipynb\" target=\"_parent\"><img src=\"https://colab.research.google.com/assets/colab-badge.svg\" alt=\"Open In Colab\"/></a>"
      ]
    },
    {
      "cell_type": "code",
      "execution_count": 2,
      "metadata": {
        "id": "rs_ZFtOjhxNj"
      },
      "outputs": [],
      "source": [
        "!pip3 install pycuda --quiet"
      ]
    },
    {
      "cell_type": "markdown",
      "source": [
        "##Element wise kernel"
      ],
      "metadata": {
        "id": "IMftJcNkkDve"
      }
    },
    {
      "cell_type": "code",
      "source": [
        "import numpy as np\n",
        "import pycuda.gpuarray as gpuarray\n",
        "from pycuda.elementwise import ElementwiseKernel\n",
        "import pycuda.autoinit"
      ],
      "metadata": {
        "id": "rytp2QYCh4Ht"
      },
      "execution_count": null,
      "outputs": []
    },
    {
      "cell_type": "code",
      "source": [
        "plus_one_kernel = ElementwiseKernel(\n",
        " \"int *y, int*x\",\n",
        " \"y[i] = x[i] + 1\",\n",
        " \"plus_one\"   \n",
        ")"
      ],
      "metadata": {
        "id": "BYuzIbpPiXsl"
      },
      "execution_count": null,
      "outputs": []
    },
    {
      "cell_type": "code",
      "source": [
        "num_components = 10\n",
        "x = np.arange(num_components, dtype=np.int32)"
      ],
      "metadata": {
        "id": "mOHDkoTJiuJr"
      },
      "execution_count": null,
      "outputs": []
    },
    {
      "cell_type": "code",
      "source": [
        "x_gpu = gpuarray.to_gpu(x)\n",
        "y_gpu = gpuarray.zeros(num_components, dtype=np.int32)"
      ],
      "metadata": {
        "id": "ERkDTKchi7bY"
      },
      "execution_count": null,
      "outputs": []
    },
    {
      "cell_type": "code",
      "source": [
        "plus_one_kernel(y_gpu, x_gpu)"
      ],
      "metadata": {
        "id": "y2WkqVR-jMIw"
      },
      "execution_count": null,
      "outputs": []
    },
    {
      "cell_type": "code",
      "source": [
        "y_gpu.get()"
      ],
      "metadata": {
        "colab": {
          "base_uri": "https://localhost:8080/"
        },
        "id": "FEzac-cGjSaZ",
        "outputId": "5328cd15-7b41-49ad-cbb8-8af06e1ea0cd"
      },
      "execution_count": null,
      "outputs": [
        {
          "output_type": "execute_result",
          "data": {
            "text/plain": [
              "array([ 1,  2,  3,  4,  5,  6,  7,  8,  9, 10], dtype=int32)"
            ]
          },
          "metadata": {},
          "execution_count": 7
        }
      ]
    },
    {
      "cell_type": "code",
      "source": [
        "x"
      ],
      "metadata": {
        "colab": {
          "base_uri": "https://localhost:8080/"
        },
        "id": "dmvAkaC6jZEH",
        "outputId": "cf0bb371-672a-4db5-b4a8-190c13d9fa7f"
      },
      "execution_count": null,
      "outputs": [
        {
          "output_type": "execute_result",
          "data": {
            "text/plain": [
              "array([0, 1, 2, 3, 4, 5, 6, 7, 8, 9], dtype=int32)"
            ]
          },
          "metadata": {},
          "execution_count": 8
        }
      ]
    },
    {
      "cell_type": "markdown",
      "source": [
        "##SourceModule"
      ],
      "metadata": {
        "id": "Jy6ctfQNkKtV"
      }
    },
    {
      "cell_type": "code",
      "source": [
        "import numpy as np\n",
        "import pycuda.gpuarray as gpuarray\n",
        "from pycuda.compiler import SourceModule\n",
        "import pycuda.autoinit\n",
        "import math"
      ],
      "metadata": {
        "id": "1NmiXMrQjiGI"
      },
      "execution_count": null,
      "outputs": []
    },
    {
      "cell_type": "code",
      "source": [
        "module = SourceModule(\"\"\"\n",
        "__global__ void plus_one_kernel(int num_comp, int *y, int*x){\n",
        "int i = threadIdx.x + blockDim.x * blockIdx.x;\n",
        "if (i < num_comp){\n",
        "  y[i] = x[i] + 1;\n",
        "}\n",
        "}\n",
        "\"\"\")"
      ],
      "metadata": {
        "id": "0Ql0JBh27bmk"
      },
      "execution_count": null,
      "outputs": []
    },
    {
      "cell_type": "code",
      "source": [
        "plus_one_kernel = module.get_function(\"plus_one_kernel\")"
      ],
      "metadata": {
        "id": "IfJ_kpEm8MF1"
      },
      "execution_count": null,
      "outputs": []
    },
    {
      "cell_type": "code",
      "source": [
        "num_components = np.int32(10)\n",
        "x = np.arange(num_components, dtype=np.int32)"
      ],
      "metadata": {
        "id": "sQA2JpxB8qSE"
      },
      "execution_count": null,
      "outputs": []
    },
    {
      "cell_type": "code",
      "source": [
        "x_gpu = gpuarray.to_gpu(x)\n",
        "y_gpu = gpuarray.zeros(num_components, dtype=np.int32)"
      ],
      "metadata": {
        "id": "PnrYKiyx9CZw"
      },
      "execution_count": null,
      "outputs": []
    },
    {
      "cell_type": "code",
      "source": [
        "threads_per_block = (256, 1, 1)\n",
        "blocks_per_grid = (math.ceil(num_components/threads_per_block[0]),1,1)"
      ],
      "metadata": {
        "id": "G_W5zaNy9Mhp"
      },
      "execution_count": null,
      "outputs": []
    },
    {
      "cell_type": "code",
      "source": [
        "plus_one_kernel(num_components, y_gpu, x_gpu, block=threads_per_block, grid=blocks_per_grid)"
      ],
      "metadata": {
        "id": "_35MwmN89wBI"
      },
      "execution_count": null,
      "outputs": []
    },
    {
      "cell_type": "code",
      "source": [
        "y_gpu.get()"
      ],
      "metadata": {
        "colab": {
          "base_uri": "https://localhost:8080/"
        },
        "id": "lBxGXs8j-D77",
        "outputId": "4bab7af8-102d-4112-c71c-35a9769b6ef6"
      },
      "execution_count": null,
      "outputs": [
        {
          "output_type": "execute_result",
          "data": {
            "text/plain": [
              "array([ 1,  2,  3,  4,  5,  6,  7,  8,  9, 10], dtype=int32)"
            ]
          },
          "metadata": {},
          "execution_count": 21
        }
      ]
    },
    {
      "cell_type": "markdown",
      "source": [
        "##loading cu file"
      ],
      "metadata": {
        "id": "sfoe7zCBb9Fd"
      }
    },
    {
      "cell_type": "code",
      "source": [
        "import math\n",
        "import numpy as np\n",
        "import time\n",
        "import pycuda.driver as drv\n",
        "import pycuda.gpuarray as gpuarray\n",
        "from pycuda.compiler import SourceModule"
      ],
      "metadata": {
        "id": "vO2Wddx3cVIM"
      },
      "execution_count": null,
      "outputs": []
    },
    {
      "cell_type": "code",
      "source": [
        "import pycuda.autoinit"
      ],
      "metadata": {
        "id": "vhykRwqtc2Pu"
      },
      "execution_count": null,
      "outputs": []
    },
    {
      "cell_type": "code",
      "source": [
        "# cuda_file_path = os.path.abspath(\"./cuda\")\n",
        "cuda_file_path = \"/content/drive/MyDrive/dev/cuda\""
      ],
      "metadata": {
        "id": "sGOl6FrMkTKg"
      },
      "execution_count": null,
      "outputs": []
    },
    {
      "cell_type": "code",
      "source": [
        "module = SourceModule(\"\"\"\n",
        "#include \"kernel_functions_for_math_1d.cu\"\n",
        "\"\"\",include_dirs=[cuda_file_path])"
      ],
      "metadata": {
        "id": "bSff9CKqkeZT"
      },
      "execution_count": null,
      "outputs": []
    },
    {
      "cell_type": "code",
      "source": [
        "plus_one_kernel = module.get_function(\"plus_one_kernel\")"
      ],
      "metadata": {
        "id": "szwAIx6ekufZ"
      },
      "execution_count": null,
      "outputs": []
    },
    {
      "cell_type": "code",
      "source": [
        "num_components = np.int32(1e6)\n",
        "x = np.arange(num_components, dtype=np.int32)"
      ],
      "metadata": {
        "id": "wat8yrwwk3LU"
      },
      "execution_count": null,
      "outputs": []
    },
    {
      "cell_type": "code",
      "source": [
        "x_gpu = gpuarray.to_gpu(x)\n",
        "y_gpu = gpuarray.zeros(num_components, dtype=np.int32)"
      ],
      "metadata": {
        "id": "pLnhQsRNk_yZ"
      },
      "execution_count": null,
      "outputs": []
    },
    {
      "cell_type": "code",
      "source": [
        "threads_per_block = (256, 1, 1)\n",
        "blocks_per_grid = (math.ceil(num_components/threads_per_block[0]) ,1 ,1)"
      ],
      "metadata": {
        "id": "o2KlENFclKg6"
      },
      "execution_count": null,
      "outputs": []
    },
    {
      "cell_type": "code",
      "source": [
        "plus_one_kernel(num_components, y_gpu, x_gpu, block=threads_per_block, grid=blocks_per_grid)"
      ],
      "metadata": {
        "id": "slehu1RSla29"
      },
      "execution_count": null,
      "outputs": []
    },
    {
      "cell_type": "code",
      "source": [
        "y_gpu.get()"
      ],
      "metadata": {
        "colab": {
          "base_uri": "https://localhost:8080/"
        },
        "id": "q5Q4O2ANrEdT",
        "outputId": "57b0505f-e4d8-45c5-b0ac-c3dfcdee6a43"
      },
      "execution_count": null,
      "outputs": [
        {
          "output_type": "execute_result",
          "data": {
            "text/plain": [
              "array([      1,       2,       3, ...,  999998,  999999, 1000000],\n",
              "      dtype=int32)"
            ]
          },
          "metadata": {},
          "execution_count": 13
        }
      ]
    },
    {
      "cell_type": "code",
      "source": [
        "time_start_cpu = time.time()\n",
        "x = x + 1\n",
        "time_end_cpu = time.time()"
      ],
      "metadata": {
        "id": "ZWI2GIQ_rG--"
      },
      "execution_count": null,
      "outputs": []
    },
    {
      "cell_type": "code",
      "source": [
        "print(\"CPU calculation {} [msec]\".format(1000*(time_end_cpu - time_start_cpu)))"
      ],
      "metadata": {
        "colab": {
          "base_uri": "https://localhost:8080/"
        },
        "id": "p-FXrf1MyXIS",
        "outputId": "e70d3864-51cd-4238-fa29-eb15d9072645"
      },
      "execution_count": null,
      "outputs": [
        {
          "output_type": "stream",
          "name": "stdout",
          "text": [
            "CPU calculation 1.621246337890625 [msec]\n"
          ]
        }
      ]
    },
    {
      "cell_type": "code",
      "source": [
        "time_start_gpu = drv.Event()\n",
        "time_end_gpu = drv.Event()"
      ],
      "metadata": {
        "id": "jcLBfdrPylIA"
      },
      "execution_count": null,
      "outputs": []
    },
    {
      "cell_type": "code",
      "source": [
        "time_start_gpu.record()\n",
        "plus_one_kernel(num_components, y_gpu, x_gpu, block=threads_per_block, grid=blocks_per_grid)\n",
        "time_end_gpu.record()\n",
        "time_end_gpu.synchronize()"
      ],
      "metadata": {
        "colab": {
          "base_uri": "https://localhost:8080/"
        },
        "id": "zqHauTQAyzry",
        "outputId": "691b6a7d-55d2-4e52-db2e-30db2cde6a94"
      },
      "execution_count": null,
      "outputs": [
        {
          "output_type": "execute_result",
          "data": {
            "text/plain": [
              "<pycuda._driver.Event at 0x7fa1be531ab0>"
            ]
          },
          "metadata": {},
          "execution_count": 17
        }
      ]
    },
    {
      "cell_type": "code",
      "source": [
        "print(\"GPU calculation {} [msec]\".format(time_start_gpu.time_till(time_end_gpu)))"
      ],
      "metadata": {
        "colab": {
          "base_uri": "https://localhost:8080/"
        },
        "id": "s0UyTZMYzHWU",
        "outputId": "3ef2200c-7a06-4583-de97-704c0ca00d00"
      },
      "execution_count": null,
      "outputs": [
        {
          "output_type": "stream",
          "name": "stdout",
          "text": [
            "GPU calculation 0.16441600024700165 [msec]\n"
          ]
        }
      ]
    },
    {
      "cell_type": "code",
      "source": [
        "time_start_gpu.record()\n",
        "y_gpu.get()\n",
        "time_end_gpu.record()\n",
        "time_end_gpu.synchronize()"
      ],
      "metadata": {
        "colab": {
          "base_uri": "https://localhost:8080/"
        },
        "id": "EpAOWScLz1mL",
        "outputId": "f8af70e1-7091-439d-f55c-a75cfaa22938"
      },
      "execution_count": null,
      "outputs": [
        {
          "output_type": "execute_result",
          "data": {
            "text/plain": [
              "<pycuda._driver.Event at 0x7fa1be531ab0>"
            ]
          },
          "metadata": {},
          "execution_count": 19
        }
      ]
    },
    {
      "cell_type": "code",
      "source": [
        "print(\"Taking memory from gpu {} [msec]\".format(time_start_gpu.time_till(time_end_gpu)))"
      ],
      "metadata": {
        "colab": {
          "base_uri": "https://localhost:8080/"
        },
        "id": "MyJW2nVcz43y",
        "outputId": "704a6470-e94a-4c78-a8e0-8cb37fb88a9c"
      },
      "execution_count": null,
      "outputs": [
        {
          "output_type": "stream",
          "name": "stdout",
          "text": [
            "Taking memory from gpu 2.708479881286621 [msec]\n"
          ]
        }
      ]
    },
    {
      "cell_type": "markdown",
      "source": [
        "## 2d array"
      ],
      "metadata": {
        "id": "sS7tlS7qNdYm"
      }
    },
    {
      "cell_type": "code",
      "source": [
        "import math\n",
        "import numpy as np\n",
        "import pycuda.gpuarray as gpuarray\n",
        "from pycuda.compiler import SourceModule\n",
        "import pycuda.autoinit"
      ],
      "metadata": {
        "id": "FA7aFGDFNhvS"
      },
      "execution_count": null,
      "outputs": []
    },
    {
      "cell_type": "code",
      "source": [
        "module = SourceModule(\"\"\"\n",
        "__global__ void add_two_array_2d(int nx, int ny, float *res, float *arr1, float *arr2){\n",
        "  int x = threadIdx.x + blockDim.x * blockIdx.x;\n",
        "  int y = threadIdx.y + blockDim.y * blockIdx.y;\n",
        "  int ij = nx * y + x;\n",
        "  if (x < nx && y < ny){\n",
        "      res[ij] = arr1[ij] + arr2[ij]; \n",
        "  }\n",
        "}\n",
        "\"\"\")"
      ],
      "metadata": {
        "id": "CT_0raznNs4_"
      },
      "execution_count": null,
      "outputs": []
    },
    {
      "cell_type": "code",
      "source": [
        "add_two_array = module.get_function(\"add_two_array_2d\")"
      ],
      "metadata": {
        "id": "5w2rDif1OtAr"
      },
      "execution_count": null,
      "outputs": []
    },
    {
      "cell_type": "code",
      "source": [
        "num_x, num_y = np.int32(5), np.int32(2)\n",
        "num_components = num_x * num_y"
      ],
      "metadata": {
        "id": "FqJ_NqLkO1Ur"
      },
      "execution_count": null,
      "outputs": []
    },
    {
      "cell_type": "code",
      "source": [
        "arr1 = np.arange(num_components, dtype=np.float32).reshape(num_y, num_x)"
      ],
      "metadata": {
        "id": "w_OLM9gqPLgr"
      },
      "execution_count": null,
      "outputs": []
    },
    {
      "cell_type": "code",
      "source": [
        "np.random.seed(42)\n",
        "arr2 = 10 * np.random.rand(num_y, num_x)\n",
        "arr2 = arr2.astype(np.float32)"
      ],
      "metadata": {
        "id": "8uJxUouWPZvN"
      },
      "execution_count": null,
      "outputs": []
    },
    {
      "cell_type": "code",
      "source": [
        "res = np.zeros([num_y, num_x], dtype=np.float32)"
      ],
      "metadata": {
        "id": "3T9Cd4B-PqoO"
      },
      "execution_count": null,
      "outputs": []
    },
    {
      "cell_type": "code",
      "source": [
        "arr1_gpu = gpuarray.to_gpu(arr1)\n",
        "arr2_gpu = gpuarray.to_gpu(arr2)\n",
        "res_gpu = gpuarray.to_gpu(res)"
      ],
      "metadata": {
        "id": "utG8fNiIP3iH"
      },
      "execution_count": null,
      "outputs": []
    },
    {
      "cell_type": "code",
      "source": [
        "threads_per_block = (16, 16, 1)\n",
        "block_x = math.ceil(num_x / threads_per_block[0])\n",
        "block_y = math.ceil(num_y / threads_per_block[1])\n",
        "blocks_per_grid = (block_x, block_y, 1)"
      ],
      "metadata": {
        "id": "_jzTXKX6Q-Pm"
      },
      "execution_count": null,
      "outputs": []
    },
    {
      "cell_type": "code",
      "source": [
        "add_two_array(num_x, num_y, res_gpu, arr1_gpu, arr2_gpu, block=threads_per_block, grid=blocks_per_grid)"
      ],
      "metadata": {
        "id": "JQxgJwFuRUQP"
      },
      "execution_count": null,
      "outputs": []
    },
    {
      "cell_type": "code",
      "source": [
        "res_gpu.get()"
      ],
      "metadata": {
        "colab": {
          "base_uri": "https://localhost:8080/"
        },
        "id": "qhjIk3LCRkSU",
        "outputId": "b635b525-d090-412a-9786-2077f523111a"
      },
      "execution_count": null,
      "outputs": [
        {
          "output_type": "execute_result",
          "data": {
            "text/plain": [
              "array([[ 3.7454011, 10.507143 ,  9.31994  ,  8.986585 ,  5.5601864],\n",
              "       [ 6.559945 ,  6.5808363, 15.661761 , 14.01115  , 16.080727 ]],\n",
              "      dtype=float32)"
            ]
          },
          "metadata": {},
          "execution_count": 42
        }
      ]
    },
    {
      "cell_type": "code",
      "source": [
        "arr1 + arr2"
      ],
      "metadata": {
        "colab": {
          "base_uri": "https://localhost:8080/"
        },
        "id": "lFZQSS9mRoL4",
        "outputId": "8306c4c2-dc3d-4e5c-eff3-26486f58db1d"
      },
      "execution_count": null,
      "outputs": [
        {
          "output_type": "execute_result",
          "data": {
            "text/plain": [
              "array([[ 3.7454011, 10.507143 ,  9.31994  ,  8.986585 ,  5.5601864],\n",
              "       [ 6.559945 ,  6.5808363, 15.661761 , 14.01115  , 16.080727 ]],\n",
              "      dtype=float32)"
            ]
          },
          "metadata": {},
          "execution_count": 43
        }
      ]
    },
    {
      "cell_type": "markdown",
      "source": [
        "##3D array"
      ],
      "metadata": {
        "id": "lldz_ATDNIMu"
      }
    },
    {
      "cell_type": "code",
      "source": [
        "import math\n",
        "import numpy as np\n",
        "import pycuda.gpuarray as gpuarray\n",
        "from pycuda.compiler import SourceModule\n",
        "import pycuda.autoinit"
      ],
      "metadata": {
        "id": "YdD-REubNLQz"
      },
      "execution_count": null,
      "outputs": []
    },
    {
      "cell_type": "code",
      "source": [
        "module = SourceModule(\"\"\"\n",
        "__global__ void add_two_array_3d(int nx, int ny, int nz, float *res, float *arr1, float *arr2){\n",
        "  int x = threadIdx.x + blockDim.x * blockIdx.x;\n",
        "  int y = threadIdx.y + blockDim.y * blockIdx.y;\n",
        "  int z = threadIdx.z + blockDim.z * blockIdx.z;\n",
        "  int ijk = nx * ny * z + nx * y + x;\n",
        "  if (x < nx && y < ny && z < nz){\n",
        "      res[ijk] = arr1[ijk] + arr2[ijk]; \n",
        "  }\n",
        "}\n",
        "\"\"\")"
      ],
      "metadata": {
        "id": "msBa_ZU3NOIH"
      },
      "execution_count": null,
      "outputs": []
    },
    {
      "cell_type": "code",
      "source": [
        "add_two_array = module.get_function(\"add_two_array_3d\")"
      ],
      "metadata": {
        "id": "SRQ8MYcBNw8v"
      },
      "execution_count": null,
      "outputs": []
    },
    {
      "cell_type": "code",
      "source": [
        "num_x = np.int32(3)\n",
        "num_y = np.int32(3)\n",
        "num_z = np.int32(3) \n",
        "num_components = num_x * num_y * num_z"
      ],
      "metadata": {
        "id": "hWm7G3AoN1Rw"
      },
      "execution_count": null,
      "outputs": []
    },
    {
      "cell_type": "code",
      "source": [
        "arr1 = np.arange(num_components, dtype=np.float32).reshape(num_y, num_x, num_z)"
      ],
      "metadata": {
        "id": "QYAoEX0eOII5"
      },
      "execution_count": null,
      "outputs": []
    },
    {
      "cell_type": "code",
      "source": [
        "np.random.seed(42)\n",
        "arr2 = np.ones([num_x, num_y, num_z], dtype=np.float32)"
      ],
      "metadata": {
        "id": "ztWpnEQkOK6g"
      },
      "execution_count": null,
      "outputs": []
    },
    {
      "cell_type": "code",
      "source": [
        "res = np.zeros([num_x, num_y, num_z], dtype=np.float32)"
      ],
      "metadata": {
        "id": "SAPcZyL-OWNG"
      },
      "execution_count": null,
      "outputs": []
    },
    {
      "cell_type": "code",
      "source": [
        "arr1_gpu = gpuarray.to_gpu(arr1)\n",
        "arr2_gpu = gpuarray.to_gpu(arr2)"
      ],
      "metadata": {
        "id": "BjfJ9OKYOgXF"
      },
      "execution_count": null,
      "outputs": []
    },
    {
      "cell_type": "code",
      "source": [
        "res_gpu = gpuarray.zeros([num_x, num_y, num_z], dtype=np.float32)"
      ],
      "metadata": {
        "id": "bjwegLvffgUM"
      },
      "execution_count": null,
      "outputs": []
    },
    {
      "cell_type": "code",
      "source": [
        "threads_per_block = (6, 6, 6)\n",
        "block_x = math.ceil(num_x / threads_per_block[0])\n",
        "block_y = math.ceil(num_y / threads_per_block[1])\n",
        "block_z = math.ceil(num_z / threads_per_block[2])\n",
        "blocks_per_grid = (block_x, block_y, block_z)"
      ],
      "metadata": {
        "id": "09I8n6AqOg_L"
      },
      "execution_count": null,
      "outputs": []
    },
    {
      "cell_type": "code",
      "source": [
        "add_two_array(num_x, num_y, num_z, res_gpu, arr1_gpu, arr2_gpu, block=threads_per_block, grid=blocks_per_grid)"
      ],
      "metadata": {
        "id": "BobBzCsSciV9"
      },
      "execution_count": null,
      "outputs": []
    },
    {
      "cell_type": "code",
      "source": [
        "res_gpu.get()"
      ],
      "metadata": {
        "colab": {
          "base_uri": "https://localhost:8080/"
        },
        "id": "z57CEcKvfqdO",
        "outputId": "7fe688cb-1338-4830-a921-a29b61bd134e"
      },
      "execution_count": null,
      "outputs": [
        {
          "output_type": "execute_result",
          "data": {
            "text/plain": [
              "array([[[ 1.,  2.,  3.],\n",
              "        [ 4.,  5.,  6.],\n",
              "        [ 7.,  8.,  9.]],\n",
              "\n",
              "       [[10., 11., 12.],\n",
              "        [13., 14., 15.],\n",
              "        [16., 17., 18.]],\n",
              "\n",
              "       [[19., 20., 21.],\n",
              "        [22., 23., 24.],\n",
              "        [25., 26., 27.]]], dtype=float32)"
            ]
          },
          "metadata": {},
          "execution_count": 29
        }
      ]
    },
    {
      "cell_type": "markdown",
      "source": [
        "##mandel kernel"
      ],
      "metadata": {
        "id": "v5EF04FxicBq"
      }
    },
    {
      "cell_type": "code",
      "source": [
        "import math\n",
        "import numpy as np\n",
        "import pycuda.gpuarray as gpuarray\n",
        "from pycuda.compiler import SourceModule\n",
        "import pycuda.autoinit\n",
        "import seaborn as sns\n",
        "import matplotlib.pyplot as plt"
      ],
      "metadata": {
        "id": "Yr8ceM2gifNE"
      },
      "execution_count": null,
      "outputs": []
    },
    {
      "cell_type": "code",
      "source": [
        "module = SourceModule(\"\"\"\n",
        "#include <pycuda-complex.hpp>\n",
        "__global__ void mandel_kernel(int nx, int ny, float *real_val, float *imag_val, float *res,\n",
        "int max_iter, float upper_bound){\n",
        "    int x = threadIdx.x + blockDim.x * blockIdx.x;\n",
        "    int y = threadIdx.y + blockDim.y * blockIdx.y;\n",
        "    int ij = nx * y + x;\n",
        "    if (x < nx && y < ny){\n",
        "        int diverge_flag = 0;\n",
        "        pycuda::complex<float> c(real_val[ij], imag_val[ij]);\n",
        "        pycuda::complex<float> z(0, 0);\n",
        "        for (int i = 0; i < max_iter; i++){\n",
        "            z = z * z + c;\n",
        "            if (abs(z) > upper_bound){\n",
        "                res[ij] = (float) i;\n",
        "                diverge_flag = 1;\n",
        "                break;\n",
        "            }\n",
        "        }\n",
        "        if (diverge_flag == 0){\n",
        "            res[ij] = (float) max_iter;\n",
        "        }\n",
        "    }\n",
        "}\n",
        "\"\"\")"
      ],
      "metadata": {
        "id": "nfiA3i5SihLj"
      },
      "execution_count": null,
      "outputs": []
    },
    {
      "cell_type": "code",
      "source": [
        "mandelbrot = module.get_function(\"mandel_kernel\")"
      ],
      "metadata": {
        "id": "O-x0MMcwikk2"
      },
      "execution_count": null,
      "outputs": []
    },
    {
      "cell_type": "code",
      "source": [
        "nx = np.int32(500)\n",
        "ny = np.int32(1000)\n",
        "max_iter = np.int32(100)\n",
        "upper_bound = np.float32(2.0)"
      ],
      "metadata": {
        "id": "sd-IPmQMi-eA"
      },
      "execution_count": null,
      "outputs": []
    },
    {
      "cell_type": "code",
      "source": [
        "x = np.linspace(-2, 2, nx, dtype=np.float32)\n",
        "y = np.linspace(-2, 2, ny, dtype=np.float32)"
      ],
      "metadata": {
        "id": "9QIFDh7bjAK8"
      },
      "execution_count": null,
      "outputs": []
    },
    {
      "cell_type": "code",
      "source": [
        "Y, X = np.meshgrid(y, x, indexing=\"ij\")"
      ],
      "metadata": {
        "id": "8uTpPKZgjCQO"
      },
      "execution_count": null,
      "outputs": []
    },
    {
      "cell_type": "code",
      "source": [
        "X_gpu = gpuarray.to_gpu(X)\n",
        "Y_gpu = gpuarray.to_gpu(Y)"
      ],
      "metadata": {
        "id": "FgK9qMF6kFWN"
      },
      "execution_count": null,
      "outputs": []
    },
    {
      "cell_type": "code",
      "source": [
        "res_gpu = gpuarray.zeros([ny, nx], dtype=np.float32)"
      ],
      "metadata": {
        "id": "dWJRxqRLkI9a"
      },
      "execution_count": null,
      "outputs": []
    },
    {
      "cell_type": "code",
      "source": [
        "threads_per_block = (16, 16, 1)\n",
        "block_x = math.ceil(nx / threads_per_block[0])\n",
        "block_y = math.ceil(ny / threads_per_block[1])\n",
        "blocks_per_grid = (block_x, block_y, 1)"
      ],
      "metadata": {
        "id": "k_XZlotxkKhw"
      },
      "execution_count": null,
      "outputs": []
    },
    {
      "cell_type": "code",
      "source": [
        "mandelbrot(nx, ny, X_gpu, Y_gpu, res_gpu, max_iter, upper_bound, block=threads_per_block, grid=blocks_per_grid)"
      ],
      "metadata": {
        "id": "tTY2zuF3kMu1"
      },
      "execution_count": null,
      "outputs": []
    },
    {
      "cell_type": "code",
      "source": [
        "res = res_gpu.get()"
      ],
      "metadata": {
        "id": "umZRtcg3kOeF"
      },
      "execution_count": null,
      "outputs": []
    },
    {
      "cell_type": "code",
      "source": [
        "sns.heatmap(res, cmap=\"RdBu_r\")\n",
        "plt.show()"
      ],
      "metadata": {
        "colab": {
          "base_uri": "https://localhost:8080/",
          "height": 279
        },
        "id": "TGa9y4xgkQzG",
        "outputId": "ee017880-12b6-4d6c-c143-e9ce1525d86e"
      },
      "execution_count": null,
      "outputs": [
        {
          "output_type": "display_data",
          "data": {
            "text/plain": [
              "<Figure size 432x288 with 2 Axes>"
            ],
            "image/png": "[encoded data removed]"
          },
          "metadata": {
            "needs_background": "light"
          }
        }
      ]
    },
    {
      "cell_type": "markdown",
      "source": [
        "## Shared Memory"
      ],
      "metadata": {
        "id": "haihD1cAWxIO"
      }
    },
    {
      "cell_type": "code",
      "source": [
        "import math\n",
        "import numpy as np\n",
        "import pycuda.gpuarray as gpuarray\n",
        "from pycuda.compiler import SourceModule\n",
        "import matplotlib.pyplot as plt\n",
        "plt.style.use(\"ggplot\")\n",
        "import pycuda.autoinit"
      ],
      "metadata": {
        "id": "fIx3VQGeW89J"
      },
      "execution_count": null,
      "outputs": []
    },
    {
      "cell_type": "code",
      "source": [
        "module = SourceModule(\"\"\"\n",
        "#define NUM_THREADS 128\n",
        "#define NUM_HALO 2\n",
        "__global__ void rolling_mean_1d(int nx, float *res, float *arr){\n",
        "    __shared__ float arr_s[NUM_THREADS + NUM_HALO];\n",
        "    int x = threadIdx.x + blockDim.x * blockIdx.x;\n",
        "    int tx = threadIdx.x + 1;\n",
        "    float arr_mean;\n",
        "    if (x < nx){\n",
        "        arr_s[tx] = arr[x];\n",
        "        if (x == 0){\n",
        "            arr_s[tx - 1] = arr[0];\n",
        "        } else if (x == (nx - 1)){\n",
        "            arr_s[tx + 1] = arr[nx - 1];\n",
        "        } else {\n",
        "            if ((tx - 1) == 0){\n",
        "                arr_s[tx - 1] = arr[x - 1];\n",
        "            } else if ((tx + 1) == NUM_THREADS){\n",
        "                arr_s[tx + 1] = arr[x + 1];\n",
        "            }\n",
        "        }\n",
        "        __syncthreads();\n",
        "        arr_mean = (arr_s[tx - 1] + arr_s[tx] + arr_s[tx + 1]) / 3.0;\n",
        "        res[x] = arr_mean;\n",
        "    }\n",
        "}\n",
        "\"\"\")"
      ],
      "metadata": {
        "id": "lwhvEgmnXwdm"
      },
      "execution_count": null,
      "outputs": []
    },
    {
      "cell_type": "code",
      "source": [
        "rolling_mean = module.get_function(\"rolling_mean_1d\")"
      ],
      "metadata": {
        "id": "p8gxTXRvbVdR"
      },
      "execution_count": null,
      "outputs": []
    },
    {
      "cell_type": "code",
      "source": [
        "num_components = np.int32(200)\n",
        "x = np.linspace(0, 5, num_components, dtype=np.float32)"
      ],
      "metadata": {
        "id": "qebuDq46bb3X"
      },
      "execution_count": null,
      "outputs": []
    },
    {
      "cell_type": "code",
      "source": [
        "arr = np.sin(x) + 0.1 * np.random.randn(num_components).astype(np.float32)"
      ],
      "metadata": {
        "id": "6g8fSa-0bep4"
      },
      "execution_count": null,
      "outputs": []
    },
    {
      "cell_type": "code",
      "source": [
        "arr_gpu = gpuarray.to_gpu(arr)\n",
        "res_gpu = gpuarray.zeros(num_components, dtype=np.float32)"
      ],
      "metadata": {
        "id": "KtiSyX_Qbxjd"
      },
      "execution_count": null,
      "outputs": []
    },
    {
      "cell_type": "code",
      "source": [
        "num_threads = 128\n",
        "threads_per_block = (num_threads, 1, 1)\n",
        "blocks_per_grid = (math.ceil(num_components / threads_per_block[0]), 1, 1)"
      ],
      "metadata": {
        "id": "pKQbx1Bdb6Nd"
      },
      "execution_count": null,
      "outputs": []
    },
    {
      "cell_type": "code",
      "source": [
        "rolling_mean(num_components, res_gpu, arr_gpu, block=threads_per_block, grid=blocks_per_grid)"
      ],
      "metadata": {
        "id": "zi6Ei2XJcJCk"
      },
      "execution_count": null,
      "outputs": []
    },
    {
      "cell_type": "code",
      "source": [
        "res = res_gpu.get()"
      ],
      "metadata": {
        "id": "zbT-ZdancX49"
      },
      "execution_count": null,
      "outputs": []
    },
    {
      "cell_type": "code",
      "source": [
        "plt.plot(x, res, label = \"rolling_mean\")\n",
        "plt.plot(x, arr, label = \"original\")\n",
        "plt.legend()\n",
        "plt.show()"
      ],
      "metadata": {
        "colab": {
          "base_uri": "https://localhost:8080/",
          "height": 265
        },
        "id": "JXaH4NDqcaOg",
        "outputId": "650decbf-5fa5-4a81-ccf3-cc86815dc82a"
      },
      "execution_count": null,
      "outputs": [
        {
          "output_type": "display_data",
          "data": {
            "text/plain": [
              "<Figure size 432x288 with 1 Axes>"
            ],
            "image/png": "[encoded data removed]"
          },
          "metadata": {}
        }
      ]
    },
    {
      "cell_type": "markdown",
      "source": [
        "##Texture memory 1D"
      ],
      "metadata": {
        "id": "02V_jrGkdhg0"
      }
    },
    {
      "cell_type": "code",
      "source": [
        "import math\n",
        "import numpy as np\n",
        "import pycuda.gpuarray as gpuarray\n",
        "from pycuda.compiler import SourceModule\n",
        "import pycuda.autoinit"
      ],
      "metadata": {
        "id": "xKzzl93hdkaZ"
      },
      "execution_count": null,
      "outputs": []
    },
    {
      "cell_type": "code",
      "source": [
        "module = SourceModule(\"\"\"\n",
        "texture<int, 1, cudaReadModeElementType> tex_1d;\n",
        "__global__ void read_texture_1d(int nx, int *res){\n",
        "    int x = threadIdx.x + blockDim.x * blockIdx.x;\n",
        "    if (x < nx){\n",
        "        res[x] = tex1Dfetch(tex_1d, x);\n",
        "    }\n",
        "}\n",
        "\"\"\")"
      ],
      "metadata": {
        "id": "kTUOsA_6d04o"
      },
      "execution_count": null,
      "outputs": []
    },
    {
      "cell_type": "code",
      "source": [
        "read_tex_1d = module.get_function(\"read_texture_1d\")"
      ],
      "metadata": {
        "id": "UdlXRjUWeX7G"
      },
      "execution_count": null,
      "outputs": []
    },
    {
      "cell_type": "code",
      "source": [
        "num_components = np.int32(10)\n",
        "arr = np.arange(num_components, dtype=np.int32)"
      ],
      "metadata": {
        "id": "yAtChNPFe21F"
      },
      "execution_count": null,
      "outputs": []
    },
    {
      "cell_type": "code",
      "source": [
        "np.random.shuffle(arr)"
      ],
      "metadata": {
        "id": "_qTQAprje3CY"
      },
      "execution_count": null,
      "outputs": []
    },
    {
      "cell_type": "code",
      "source": [
        "print(arr)"
      ],
      "metadata": {
        "colab": {
          "base_uri": "https://localhost:8080/"
        },
        "id": "NjqbaNsJe4iN",
        "outputId": "791c9822-f4da-4642-9e54-34e1a5bf25d5"
      },
      "execution_count": null,
      "outputs": [
        {
          "output_type": "stream",
          "name": "stdout",
          "text": [
            "[2 8 3 4 1 5 9 0 7 6]\n"
          ]
        }
      ]
    },
    {
      "cell_type": "code",
      "source": [
        "arr_gpu = gpuarray.to_gpu(arr)\n",
        "res_gpu = gpuarray.zeros(num_components, dtype=np.int32)"
      ],
      "metadata": {
        "id": "VJqPa1_ee6Uy"
      },
      "execution_count": null,
      "outputs": []
    },
    {
      "cell_type": "code",
      "source": [
        "tex_1d = module.get_texref(\"tex_1d\")\n",
        "arr_gpu.bind_to_texref_ext(tex_1d)"
      ],
      "metadata": {
        "colab": {
          "base_uri": "https://localhost:8080/"
        },
        "id": "VXvA-nure-9I",
        "outputId": "c9d19351-2b02-4c25-8572-054b8072e76d"
      },
      "execution_count": null,
      "outputs": [
        {
          "output_type": "execute_result",
          "data": {
            "text/plain": [
              "0.0"
            ]
          },
          "metadata": {},
          "execution_count": 36
        }
      ]
    },
    {
      "cell_type": "code",
      "source": [
        "thread_per_block = (256, 1, 1)\n",
        "blocks_per_grid = (math.ceil(num_components / threads_per_block[0]), 1, 1)"
      ],
      "metadata": {
        "id": "ilHqYUN3fJEp"
      },
      "execution_count": null,
      "outputs": []
    },
    {
      "cell_type": "code",
      "source": [
        "read_tex_1d(num_components, res_gpu, block=threads_per_block, grid=blocks_per_grid, texrefs=[tex_1d])"
      ],
      "metadata": {
        "id": "Je9Xz9T4fLkV"
      },
      "execution_count": null,
      "outputs": []
    },
    {
      "cell_type": "code",
      "source": [
        "res_gpu.get()"
      ],
      "metadata": {
        "colab": {
          "base_uri": "https://localhost:8080/"
        },
        "id": "l0DbVWm1fN7M",
        "outputId": "4a602df5-2b79-41d2-cf14-45da944760ae"
      },
      "execution_count": null,
      "outputs": [
        {
          "output_type": "execute_result",
          "data": {
            "text/plain": [
              "array([2, 8, 3, 4, 1, 5, 9, 0, 7, 6], dtype=int32)"
            ]
          },
          "metadata": {},
          "execution_count": 39
        }
      ]
    },
    {
      "cell_type": "markdown",
      "source": [
        "##Texture memory 2D"
      ],
      "metadata": {
        "id": "yie2tu8rfmEy"
      }
    },
    {
      "cell_type": "code",
      "source": [
        "import math\n",
        "import numpy as np\n",
        "import pycuda.gpuarray as gpuarray\n",
        "from pycuda.compiler import SourceModule\n",
        "import pycuda.driver as drv\n",
        "import pycuda.autoinit"
      ],
      "metadata": {
        "id": "uLpr3QkefrqN"
      },
      "execution_count": null,
      "outputs": []
    },
    {
      "cell_type": "code",
      "source": [
        "module = SourceModule(\"\"\"\n",
        "texture<int, 2, cudaReadModeElementType> tex_2d;\n",
        "__global__ void read_texture_2d(int nx, int ny, int *res){\n",
        "    int x = threadIdx.x + blockDim.x * blockIdx.x;\n",
        "    int y = threadIdx.y + blockDim.y * blockIdx.y;\n",
        "    int ij = nx * y + x;\n",
        "    if (x < nx && y < ny){\n",
        "        res[ij] = tex2D(tex_2d, x, y);\n",
        "    }\n",
        "}\n",
        "\"\"\")"
      ],
      "metadata": {
        "id": "9fgfx2B3fXs3"
      },
      "execution_count": null,
      "outputs": []
    },
    {
      "cell_type": "code",
      "source": [
        "read_tex_2d = module.get_function(\"read_texture_2d\")"
      ],
      "metadata": {
        "id": "NEJV96j6ft0F"
      },
      "execution_count": null,
      "outputs": []
    },
    {
      "cell_type": "code",
      "source": [
        "num_components = np.int32(20)\n",
        "arr = np.arange(num_components, dtype=np.int32)"
      ],
      "metadata": {
        "id": "rLI_YBhefuEX"
      },
      "execution_count": null,
      "outputs": []
    },
    {
      "cell_type": "code",
      "source": [
        "np.random.shuffle(arr)"
      ],
      "metadata": {
        "id": "xShIWfiafvXq"
      },
      "execution_count": null,
      "outputs": []
    },
    {
      "cell_type": "code",
      "source": [
        "num_x, num_y = np.int32(5), np.int32(4)\n",
        "arr = arr.reshape(num_y, num_x)"
      ],
      "metadata": {
        "id": "suObd5defzdN"
      },
      "execution_count": null,
      "outputs": []
    },
    {
      "cell_type": "code",
      "source": [
        "arr"
      ],
      "metadata": {
        "colab": {
          "base_uri": "https://localhost:8080/"
        },
        "id": "cUbUMVUNfzzC",
        "outputId": "4df1b7d5-94a1-439a-cf11-55f6b97ba5d8"
      },
      "execution_count": null,
      "outputs": [
        {
          "output_type": "execute_result",
          "data": {
            "text/plain": [
              "array([[15,  6,  7,  4, 13],\n",
              "       [ 8,  2,  9,  0, 11],\n",
              "       [18,  1, 14, 17,  5],\n",
              "       [12, 19,  3, 10, 16]], dtype=int32)"
            ]
          },
          "metadata": {},
          "execution_count": 48
        }
      ]
    },
    {
      "cell_type": "code",
      "source": [
        "arr_gpu = gpuarray.to_gpu(arr)\n",
        "res_gpu = gpuarray.zeros([num_y, num_x], dtype=np.int32)"
      ],
      "metadata": {
        "id": "Xs-TtVssf15V"
      },
      "execution_count": null,
      "outputs": []
    },
    {
      "cell_type": "code",
      "source": [
        "tex_2d = module.get_texref(\"tex_2d\")"
      ],
      "metadata": {
        "id": "n3V_BfqYf5i5"
      },
      "execution_count": null,
      "outputs": []
    },
    {
      "cell_type": "code",
      "source": [
        "drv.matrix_to_texref(arr, tex_2d, order=\"C\")"
      ],
      "metadata": {
        "id": "u_KR-hrFf8Oz"
      },
      "execution_count": null,
      "outputs": []
    },
    {
      "cell_type": "code",
      "source": [
        "threads_per_block = (16, 16, 1)\n",
        "block_x = math.ceil(num_x / threads_per_block[0])\n",
        "block_y = math.ceil(num_y / threads_per_block[1])\n",
        "blocks_per_grid = (block_x, block_y, 1)"
      ],
      "metadata": {
        "id": "3i97VHw_f-Ad"
      },
      "execution_count": null,
      "outputs": []
    },
    {
      "cell_type": "code",
      "source": [
        "read_tex_2d(num_x, num_y, res_gpu, block=threads_per_block, grid=blocks_per_grid, texrefs=[tex_2d])"
      ],
      "metadata": {
        "id": "wQ9EkwY7gCRH"
      },
      "execution_count": null,
      "outputs": []
    },
    {
      "cell_type": "code",
      "source": [
        "res_gpu.get()"
      ],
      "metadata": {
        "colab": {
          "base_uri": "https://localhost:8080/"
        },
        "id": "JoyfBEnXgFJX",
        "outputId": "e926a6d3-44cd-4971-e721-8b00e9d4e8d0"
      },
      "execution_count": null,
      "outputs": [
        {
          "output_type": "execute_result",
          "data": {
            "text/plain": [
              "array([[15,  6,  7,  4, 13],\n",
              "       [ 8,  2,  9,  0, 11],\n",
              "       [18,  1, 14, 17,  5],\n",
              "       [12, 19,  3, 10, 16]], dtype=int32)"
            ]
          },
          "metadata": {},
          "execution_count": 54
        }
      ]
    },
    {
      "cell_type": "markdown",
      "source": [
        "##Texture Memory 3D"
      ],
      "metadata": {
        "id": "DHD4CxzWg6PB"
      }
    },
    {
      "cell_type": "code",
      "source": [
        "import pycuda.driver as drv\n",
        "\n",
        "\n",
        "def bind_array_to_texture3d(np_array, tex_ref):\n",
        "    \"\"\"\n",
        "    generate array for texture3d based on numpy array\n",
        "    :param np_array:\n",
        "    :param tex_ref:\n",
        "    :return: array for binding to texture reference\n",
        "    \"\"\"\n",
        "    # get shape\n",
        "    # caution: (d, h, w) C manner\n",
        "    #        : (w, h, d) Fortran manner\n",
        "    #\n",
        "    d, h, w = np_array.shape\n",
        "    # generate descriptor\n",
        "    descr = drv.ArrayDescriptor3D()\n",
        "    descr.width = w\n",
        "    descr.height = h\n",
        "    descr.depth = d\n",
        "    descr.format = drv.dtype_to_array_format(np_array.dtype)\n",
        "    descr.num_channels = 1\n",
        "    descr.flags = 0\n",
        "    device_array = drv.Array(descr)\n",
        "    # method for copy\n",
        "    copy = drv.Memcpy3D()\n",
        "    copy.set_src_host(np_array)\n",
        "    copy.set_dst_array(device_array)\n",
        "    copy.width_in_bytes = copy.src_pitch = np_array.strides[1]\n",
        "    copy.src_height = copy.height = h\n",
        "    copy.depth = d\n",
        "    copy()\n",
        "    # bind array to texture 3d\n",
        "    tex_ref.set_array(device_array)\n",
        "\n",
        "\n",
        "if __name__ == \"__main__\":\n",
        "    pass\n"
      ],
      "metadata": {
        "id": "PJ5rI565CAni"
      },
      "execution_count": 20,
      "outputs": []
    },
    {
      "cell_type": "code",
      "source": [
        "import math\n",
        "import numpy as np\n",
        "import pycuda.gpuarray as gpuarray\n",
        "from pycuda.compiler import SourceModule\n",
        "import pycuda.autoinit"
      ],
      "metadata": {
        "id": "nU0LX47zgGQq"
      },
      "execution_count": null,
      "outputs": []
    },
    {
      "cell_type": "code",
      "source": [
        "module = SourceModule(\"\"\"\n",
        "texture<int, 3, cudaReadModeElementType> tex_3d;\n",
        "__global__ void read_texture_3d(int nx, int ny, int nz, int *res){\n",
        "    int x = threadIdx.x + blockDim.x * blockIdx.x;\n",
        "    int y = threadIdx.y + blockDim.y * blockIdx.y;\n",
        "    int z = threadIdx.z + blockDim.z * blockIdx.z;\n",
        "    int ijk = nx * ny * z + nx * y + x;\n",
        "    if (x < nx && y < ny && z < nz){\n",
        "        res[ijk] = tex3D(tex_3d, x, y, z);\n",
        "    }\n",
        "}\n",
        "\"\"\")"
      ],
      "metadata": {
        "id": "rpxa6jQmh98H"
      },
      "execution_count": null,
      "outputs": []
    },
    {
      "cell_type": "code",
      "source": [
        "read_tex_3d = module.get_function(\"read_texture_3d\")"
      ],
      "metadata": {
        "id": "amaQEFZdiO-p"
      },
      "execution_count": null,
      "outputs": []
    },
    {
      "cell_type": "code",
      "source": [
        "num_components = np.int32(24)"
      ],
      "metadata": {
        "id": "pf0knYfTiTHm"
      },
      "execution_count": null,
      "outputs": []
    },
    {
      "cell_type": "code",
      "source": [
        "arr = np.arange(num_components, dtype=np.int32)"
      ],
      "metadata": {
        "id": "J4ImDS7MiU0F"
      },
      "execution_count": null,
      "outputs": []
    },
    {
      "cell_type": "code",
      "source": [
        "np.random.shuffle(arr)"
      ],
      "metadata": {
        "id": "UX8g2IufiV66"
      },
      "execution_count": null,
      "outputs": []
    },
    {
      "cell_type": "code",
      "source": [
        "num_x, num_y, num_z = np.int32(2), np.int32(3), np.int32(4)"
      ],
      "metadata": {
        "id": "mX88mzlQiXUQ"
      },
      "execution_count": null,
      "outputs": []
    },
    {
      "cell_type": "code",
      "source": [
        "arr = arr.reshape(num_z, num_y, num_x)"
      ],
      "metadata": {
        "id": "k5yOp25YiYon"
      },
      "execution_count": null,
      "outputs": []
    },
    {
      "cell_type": "code",
      "source": [
        "print(arr)"
      ],
      "metadata": {
        "colab": {
          "base_uri": "https://localhost:8080/"
        },
        "id": "6O30aiBFiaGw",
        "outputId": "ca20230c-8779-4c41-c659-7d75f8ffdb9e"
      },
      "execution_count": null,
      "outputs": [
        {
          "output_type": "stream",
          "name": "stdout",
          "text": [
            "[[[17  6]\n",
            "  [20  4]\n",
            "  [ 5 21]]\n",
            "\n",
            " [[ 3 15]\n",
            "  [ 9 22]\n",
            "  [19 11]]\n",
            "\n",
            " [[10  1]\n",
            "  [14 12]\n",
            "  [16  8]]\n",
            "\n",
            " [[18  2]\n",
            "  [ 0  7]\n",
            "  [13 23]]]\n"
          ]
        }
      ]
    },
    {
      "cell_type": "code",
      "source": [
        "arr_gpu = gpuarray.to_gpu(arr)\n",
        "res_gpu = gpuarray.zeros([num_z, num_y, num_x], dtype=np.int32)"
      ],
      "metadata": {
        "id": "Z96pmNzqiblJ"
      },
      "execution_count": null,
      "outputs": []
    },
    {
      "cell_type": "code",
      "source": [
        "tex_3d = module.get_texref(\"tex_3d\")"
      ],
      "metadata": {
        "id": "itlocQ_MiehL"
      },
      "execution_count": null,
      "outputs": []
    },
    {
      "cell_type": "code",
      "source": [
        "bind_array_to_texture3d(arr, tex_3d)"
      ],
      "metadata": {
        "id": "oamj1KOdigRa"
      },
      "execution_count": null,
      "outputs": []
    },
    {
      "cell_type": "code",
      "source": [
        "threads_per_block = (6, 6, 6)\n",
        "block_x = math.ceil(num_x / threads_per_block[0])\n",
        "block_y = math.ceil(num_y / threads_per_block[1])\n",
        "block_z = math.ceil(num_z / threads_per_block[2])\n",
        "blocks_per_grid = (block_x, block_y, block_z)"
      ],
      "metadata": {
        "id": "2k-K2VbHiib_"
      },
      "execution_count": null,
      "outputs": []
    },
    {
      "cell_type": "code",
      "source": [
        "read_tex_3d(num_x, num_y, num_z, res_gpu, block=threads_per_block, grid=blocks_per_grid, texrefs=[tex_3d])"
      ],
      "metadata": {
        "id": "ZkG8CQKsilvD"
      },
      "execution_count": null,
      "outputs": []
    },
    {
      "cell_type": "code",
      "source": [
        "res_gpu.get()"
      ],
      "metadata": {
        "id": "1gMRGsgain4G",
        "outputId": "292fd000-4794-4955-f18f-99d3b9e53fa7",
        "colab": {
          "base_uri": "https://localhost:8080/"
        }
      },
      "execution_count": null,
      "outputs": [
        {
          "output_type": "execute_result",
          "data": {
            "text/plain": [
              "array([[[17,  6],\n",
              "        [20,  4],\n",
              "        [ 5, 21]],\n",
              "\n",
              "       [[ 3, 15],\n",
              "        [ 9, 22],\n",
              "        [19, 11]],\n",
              "\n",
              "       [[10,  1],\n",
              "        [14, 12],\n",
              "        [16,  8]],\n",
              "\n",
              "       [[18,  2],\n",
              "        [ 0,  7],\n",
              "        [13, 23]]], dtype=int32)"
            ]
          },
          "metadata": {},
          "execution_count": 75
        }
      ]
    },
    {
      "cell_type": "markdown",
      "source": [
        "## scan kernel"
      ],
      "metadata": {
        "id": "X5pqoQEa9MQ9"
      }
    },
    {
      "cell_type": "code",
      "source": [
        "import numpy as np\n",
        "import pycuda.gpuarray as gpuarray\n",
        "from pycuda.scan import InclusiveScanKernel\n",
        "import pycuda.autoinit"
      ],
      "metadata": {
        "id": "tualyQHa9UhU"
      },
      "execution_count": 2,
      "outputs": []
    },
    {
      "cell_type": "code",
      "source": [
        "scan_kernel = InclusiveScanKernel(np.int32, \"a+b\")"
      ],
      "metadata": {
        "id": "SYPTAvLl90Wv"
      },
      "execution_count": 3,
      "outputs": []
    },
    {
      "cell_type": "code",
      "source": [
        "arr = np.arange(10, dtype=np.int32)\n",
        "arr_gpu = gpuarray.to_gpu(arr)"
      ],
      "metadata": {
        "id": "IogdFkpy924L"
      },
      "execution_count": 4,
      "outputs": []
    },
    {
      "cell_type": "code",
      "source": [
        "arr_gpu2 = arr_gpu.copy()"
      ],
      "metadata": {
        "id": "1XRMyrDJ98mY"
      },
      "execution_count": 5,
      "outputs": []
    },
    {
      "cell_type": "code",
      "source": [
        "scan_kernel(arr_gpu2)"
      ],
      "metadata": {
        "colab": {
          "base_uri": "https://localhost:8080/"
        },
        "id": "g2JCuRGk95ix",
        "outputId": "febfa194-8461-4238-daf3-a2f90f79b47e"
      },
      "execution_count": 6,
      "outputs": [
        {
          "output_type": "execute_result",
          "data": {
            "text/plain": [
              "array([ 0,  1,  3,  6, 10, 15, 21, 28, 36, 45], dtype=int32)"
            ]
          },
          "metadata": {},
          "execution_count": 6
        }
      ]
    },
    {
      "cell_type": "code",
      "source": [
        "np.cumsum(arr)"
      ],
      "metadata": {
        "colab": {
          "base_uri": "https://localhost:8080/"
        },
        "id": "XaKXEPVT9-6Y",
        "outputId": "134eee93-715e-403e-d8c2-a04e9d287ae1"
      },
      "execution_count": 9,
      "outputs": [
        {
          "output_type": "execute_result",
          "data": {
            "text/plain": [
              "array([ 0,  1,  3,  6, 10, 15, 21, 28, 36, 45])"
            ]
          },
          "metadata": {},
          "execution_count": 9
        }
      ]
    },
    {
      "cell_type": "markdown",
      "source": [
        "## Atomic"
      ],
      "metadata": {
        "id": "EWcdV80t-FdD"
      }
    },
    {
      "cell_type": "code",
      "source": [
        "import math\n",
        "import numpy as np\n",
        "import pycuda.gpuarray as gpuarray\n",
        "from pycuda.compiler import SourceModule\n",
        "import pycuda.autoinit"
      ],
      "metadata": {
        "id": "TJRAh6af-UZj"
      },
      "execution_count": 10,
      "outputs": []
    },
    {
      "cell_type": "code",
      "source": [
        "module = SourceModule(\"\"\"\n",
        "__global__ void sum_atomic(int nx, int *sum, int *data){\n",
        "  int x = threadIdx.x + blockDim.x * blockIdx.x;\n",
        "  if (x < nx){\n",
        "     atomicAdd(sum, data[x]);\n",
        "  }\n",
        "}\n",
        "\n",
        "\"\"\")"
      ],
      "metadata": {
        "id": "IrGzhH8v_6_a"
      },
      "execution_count": 11,
      "outputs": []
    },
    {
      "cell_type": "code",
      "source": [
        "atomic_sum = module.get_function(\"sum_atomic\")"
      ],
      "metadata": {
        "id": "Wr5IDBdB_8UH"
      },
      "execution_count": 12,
      "outputs": []
    },
    {
      "cell_type": "code",
      "source": [
        "nx = np.int32(10)\n",
        "arr = np.arange(nx, dtype=np.int32)"
      ],
      "metadata": {
        "id": "dSy-tyXk_97a"
      },
      "execution_count": 13,
      "outputs": []
    },
    {
      "cell_type": "code",
      "source": [
        "sum_gpu = gpuarray.zeros(1, dtype=np.int32)\n",
        "arr_gpu = gpuarray.to_gpu(arr)"
      ],
      "metadata": {
        "id": "345H2WVI__tf"
      },
      "execution_count": 14,
      "outputs": []
    },
    {
      "cell_type": "code",
      "source": [
        "threads_per_block = (256, 1, 1)\n",
        "blocks_per_grid = (math.ceil(nx / threads_per_block[0]), 1, 1)"
      ],
      "metadata": {
        "id": "Vpzd0r1MAHLy"
      },
      "execution_count": 15,
      "outputs": []
    },
    {
      "cell_type": "code",
      "source": [
        "atomic_sum(nx, sum_gpu, arr_gpu, block=threads_per_block, grid=blocks_per_grid)"
      ],
      "metadata": {
        "id": "wEypKLHXAI79"
      },
      "execution_count": 16,
      "outputs": []
    },
    {
      "cell_type": "code",
      "source": [
        "sum_gpu.get()"
      ],
      "metadata": {
        "colab": {
          "base_uri": "https://localhost:8080/"
        },
        "id": "ghyEktMVALit",
        "outputId": "53ecd2d6-7263-4288-f90e-effb284c7f82"
      },
      "execution_count": 17,
      "outputs": [
        {
          "output_type": "execute_result",
          "data": {
            "text/plain": [
              "array([45], dtype=int32)"
            ]
          },
          "metadata": {},
          "execution_count": 17
        }
      ]
    },
    {
      "cell_type": "code",
      "source": [
        "np.sum(arr)"
      ],
      "metadata": {
        "colab": {
          "base_uri": "https://localhost:8080/"
        },
        "id": "CGkLoxSBAN1x",
        "outputId": "c9af218e-a131-43bd-e980-a981aae1a2d4"
      },
      "execution_count": 18,
      "outputs": [
        {
          "output_type": "execute_result",
          "data": {
            "text/plain": [
              "45"
            ]
          },
          "metadata": {},
          "execution_count": 18
        }
      ]
    },
    {
      "cell_type": "markdown",
      "source": [
        "## Reduction"
      ],
      "metadata": {
        "id": "eE04pK9xBhEI"
      }
    },
    {
      "cell_type": "code",
      "source": [
        "import numpy as np\n",
        "import pycuda.gpuarray as gpuarray\n",
        "from pycuda.reduction import ReductionKernel\n",
        "import pycuda.autoinit"
      ],
      "metadata": {
        "id": "0mDI7tXRAPyx"
      },
      "execution_count": 19,
      "outputs": []
    },
    {
      "cell_type": "code",
      "source": [
        "arr1 = np.array([3, 2, 2], dtype=np.float32)\n",
        "arr2 = np.array([2, -1, 3], dtype=np.float32)"
      ],
      "metadata": {
        "id": "S8rCXBdFBksR"
      },
      "execution_count": 21,
      "outputs": []
    },
    {
      "cell_type": "code",
      "source": [
        "arr1_gpu = gpuarray.to_gpu(arr1)\n",
        "arr2_gpu = gpuarray.to_gpu(arr2)"
      ],
      "metadata": {
        "id": "REhsF6o6CUxI"
      },
      "execution_count": 22,
      "outputs": []
    },
    {
      "cell_type": "code",
      "source": [
        "reduction_kernel = ReductionKernel(np.float32, neutral=\"0\",\n",
        "                                  reduce_expr=\"a+b\", map_expr=\"x[i]*y[i]\",\n",
        "                                  arguments=\"float *x, float *y\")"
      ],
      "metadata": {
        "id": "5lkxT71nCWEs"
      },
      "execution_count": 23,
      "outputs": []
    },
    {
      "cell_type": "code",
      "source": [
        "reduction_kernel(arr1_gpu, arr2_gpu)"
      ],
      "metadata": {
        "colab": {
          "base_uri": "https://localhost:8080/"
        },
        "id": "RP2yu7AmCYbw",
        "outputId": "8b453f45-f8df-45a7-edd4-8f194214706a"
      },
      "execution_count": 25,
      "outputs": [
        {
          "output_type": "execute_result",
          "data": {
            "text/plain": [
              "array(10., dtype=float32)"
            ]
          },
          "metadata": {},
          "execution_count": 25
        }
      ]
    },
    {
      "cell_type": "code",
      "source": [
        "np.dot(arr1, arr2)"
      ],
      "metadata": {
        "colab": {
          "base_uri": "https://localhost:8080/"
        },
        "id": "iMPHeKWaCaiu",
        "outputId": "810ef040-bc36-4c4f-e015-4ce28ddf8f99"
      },
      "execution_count": 26,
      "outputs": [
        {
          "output_type": "execute_result",
          "data": {
            "text/plain": [
              "10.0"
            ]
          },
          "metadata": {},
          "execution_count": 26
        }
      ]
    },
    {
      "cell_type": "markdown",
      "source": [
        "## min/max scan kernel"
      ],
      "metadata": {
        "id": "z-ENYiDADZEI"
      }
    },
    {
      "cell_type": "code",
      "source": [
        "import numpy as np\n",
        "import pycuda.gpuarray as gpuarray\n",
        "from pycuda.scan import InclusiveScanKernel\n",
        "import pycuda.autoinit"
      ],
      "metadata": {
        "id": "2L0k0C7jCfhr"
      },
      "execution_count": 1,
      "outputs": []
    },
    {
      "cell_type": "code",
      "source": [
        "scan_kernel = InclusiveScanKernel(np.int32, \"a > b ? a: b\")"
      ],
      "metadata": {
        "id": "_bN0WOojD_yv"
      },
      "execution_count": 2,
      "outputs": []
    },
    {
      "cell_type": "code",
      "source": [
        "arr = np.arange(10, dtype=np.int32)"
      ],
      "metadata": {
        "id": "MidOHIHSEBg8"
      },
      "execution_count": 3,
      "outputs": []
    },
    {
      "cell_type": "code",
      "source": [
        "np.random.shuffle(arr)"
      ],
      "metadata": {
        "id": "R-SGYIS9ECy-"
      },
      "execution_count": 4,
      "outputs": []
    },
    {
      "cell_type": "code",
      "source": [
        "arr_gpu = gpuarray.to_gpu(arr)"
      ],
      "metadata": {
        "id": "E7SjOgyeEGIu"
      },
      "execution_count": 5,
      "outputs": []
    },
    {
      "cell_type": "code",
      "source": [
        "arr_gpu2 = arr_gpu.copy()"
      ],
      "metadata": {
        "id": "QQ8zECYtEIZx"
      },
      "execution_count": 6,
      "outputs": []
    },
    {
      "cell_type": "code",
      "source": [
        "scan_kernel(arr_gpu2)"
      ],
      "metadata": {
        "colab": {
          "base_uri": "https://localhost:8080/"
        },
        "id": "R1wAdyPsEPb0",
        "outputId": "521b0f78-e00e-4b17-cf14-b732003ded5e"
      },
      "execution_count": 7,
      "outputs": [
        {
          "output_type": "execute_result",
          "data": {
            "text/plain": [
              "array([3, 8, 8, 9, 9, 9, 9, 9, 9, 9], dtype=int32)"
            ]
          },
          "metadata": {},
          "execution_count": 7
        }
      ]
    },
    {
      "cell_type": "code",
      "source": [
        "np.max(arr)"
      ],
      "metadata": {
        "colab": {
          "base_uri": "https://localhost:8080/"
        },
        "id": "bOc7NHQIEYyj",
        "outputId": "52b1aa59-b2be-445a-b376-c09b670bbfd7"
      },
      "execution_count": 8,
      "outputs": [
        {
          "output_type": "execute_result",
          "data": {
            "text/plain": [
              "9"
            ]
          },
          "metadata": {},
          "execution_count": 8
        }
      ]
    },
    {
      "cell_type": "markdown",
      "source": [
        "## min/max cuBLAS"
      ],
      "metadata": {
        "id": "2Zs6QK_0ErQM"
      }
    },
    {
      "cell_type": "code",
      "source": [
        "!pip3 install scikit-cuda"
      ],
      "metadata": {
        "colab": {
          "base_uri": "https://localhost:8080/"
        },
        "id": "SV4ecPLuEzvt",
        "outputId": "7f98be8d-489f-4721-ed1b-f6322bbd8250"
      },
      "execution_count": 9,
      "outputs": [
        {
          "output_type": "stream",
          "name": "stdout",
          "text": [
            "Looking in indexes: https://pypi.org/simple, https://us-python.pkg.dev/colab-wheels/public/simple/\n",
            "Collecting scikit-cuda\n",
            "  Downloading scikit_cuda-0.5.3-py2.py3-none-any.whl (114 kB)\n",
            "\u001b[K     |████████████████████████████████| 114 kB 7.3 MB/s \n",
            "\u001b[?25hRequirement already satisfied: pycuda>=2016.1 in /usr/local/lib/python3.8/dist-packages (from scikit-cuda) (2022.2)\n",
            "Requirement already satisfied: numpy>=1.2.0 in /usr/local/lib/python3.8/dist-packages (from scikit-cuda) (1.21.6)\n",
            "Requirement already satisfied: mako>=1.0.1 in /usr/local/lib/python3.8/dist-packages (from scikit-cuda) (1.2.4)\n",
            "Requirement already satisfied: MarkupSafe>=0.9.2 in /usr/local/lib/python3.8/dist-packages (from mako>=1.0.1->scikit-cuda) (2.0.1)\n",
            "Requirement already satisfied: appdirs>=1.4.0 in /usr/local/lib/python3.8/dist-packages (from pycuda>=2016.1->scikit-cuda) (1.4.4)\n",
            "Requirement already satisfied: pytools>=2011.2 in /usr/local/lib/python3.8/dist-packages (from pycuda>=2016.1->scikit-cuda) (2022.1.13)\n",
            "Requirement already satisfied: typing-extensions>=4.0 in /usr/local/lib/python3.8/dist-packages (from pytools>=2011.2->pycuda>=2016.1->scikit-cuda) (4.4.0)\n",
            "Requirement already satisfied: platformdirs>=2.2.0 in /usr/local/lib/python3.8/dist-packages (from pytools>=2011.2->pycuda>=2016.1->scikit-cuda) (2.5.4)\n",
            "Installing collected packages: scikit-cuda\n",
            "Successfully installed scikit-cuda-0.5.3\n"
          ]
        }
      ]
    },
    {
      "cell_type": "code",
      "source": [
        "import numpy as np\n",
        "import pycuda.gpuarray as gpuarray\n",
        "from skcuda import cublas\n",
        "import pycuda.autoinit"
      ],
      "metadata": {
        "colab": {
          "base_uri": "https://localhost:8080/"
        },
        "id": "abpegAZZE0GG",
        "outputId": "8b926242-d7a5-42a1-b819-d759461235a1"
      },
      "execution_count": 10,
      "outputs": [
        {
          "output_type": "stream",
          "name": "stderr",
          "text": [
            "/usr/local/lib/python3.8/dist-packages/skcuda/cublas.py:284: UserWarning: creating CUBLAS context to get version number\n",
            "  warnings.warn('creating CUBLAS context to get version number')\n"
          ]
        }
      ]
    },
    {
      "cell_type": "code",
      "source": [
        "np.random.seed(42)\n",
        "arr = np.random.randint(1, 100, 20, dtype=np.int32)"
      ],
      "metadata": {
        "id": "kBw61lUEFk3g"
      },
      "execution_count": 11,
      "outputs": []
    },
    {
      "cell_type": "code",
      "source": [
        "arr"
      ],
      "metadata": {
        "colab": {
          "base_uri": "https://localhost:8080/"
        },
        "id": "2rrB_bWlFpzf",
        "outputId": "22cac08e-aa29-4a3c-ea7f-c4cd469c3ea7"
      },
      "execution_count": 12,
      "outputs": [
        {
          "output_type": "execute_result",
          "data": {
            "text/plain": [
              "array([52, 93, 15, 72, 61, 21, 83, 87, 75, 75, 88, 24,  3, 22, 53,  2, 88,\n",
              "       30, 38,  2], dtype=int32)"
            ]
          },
          "metadata": {},
          "execution_count": 12
        }
      ]
    },
    {
      "cell_type": "code",
      "source": [
        "arr_gpu = gpuarray.to_gpu(arr)"
      ],
      "metadata": {
        "colab": {
          "base_uri": "https://localhost:8080/"
        },
        "id": "5CsaBTVvFqIh",
        "outputId": "675430bd-7df4-4272-a17b-3212da3d82df"
      },
      "execution_count": 13,
      "outputs": [
        {
          "output_type": "stream",
          "name": "stderr",
          "text": [
            "/usr/local/lib/python3.8/dist-packages/google/colab/_variable_inspector.py:27: UserWarning: device_allocation in out-of-thread context could not be cleaned up\n",
            "  globals().clear()\n"
          ]
        }
      ]
    },
    {
      "cell_type": "code",
      "source": [
        "h = cublas.cublasCreate()\n",
        "max_id = cublas.cublasIsamax(h, arr_gpu.size, arr_gpu.gpudata, 1)\n",
        "min_id = cublas.cublasIsamin(h, arr_gpu.size, arr_gpu.gpudata, 1)\n",
        "cublas.cublasDestroy(h)"
      ],
      "metadata": {
        "id": "T5FlHyi-FsR3"
      },
      "execution_count": 14,
      "outputs": []
    },
    {
      "cell_type": "code",
      "source": [
        "max_id"
      ],
      "metadata": {
        "colab": {
          "base_uri": "https://localhost:8080/"
        },
        "id": "z-k4J7M-Fuwi",
        "outputId": "99615b57-6650-4420-fc3b-27fee2b4cc6a"
      },
      "execution_count": 15,
      "outputs": [
        {
          "output_type": "execute_result",
          "data": {
            "text/plain": [
              "1"
            ]
          },
          "metadata": {},
          "execution_count": 15
        }
      ]
    },
    {
      "cell_type": "code",
      "source": [
        "min_id"
      ],
      "metadata": {
        "colab": {
          "base_uri": "https://localhost:8080/"
        },
        "id": "9HPe8PQcFwqh",
        "outputId": "88be8c21-1407-4b2c-d660-09b78053389f"
      },
      "execution_count": 16,
      "outputs": [
        {
          "output_type": "execute_result",
          "data": {
            "text/plain": [
              "15"
            ]
          },
          "metadata": {},
          "execution_count": 16
        }
      ]
    },
    {
      "cell_type": "code",
      "source": [
        "np.argmax(arr)"
      ],
      "metadata": {
        "colab": {
          "base_uri": "https://localhost:8080/"
        },
        "id": "_1-dwff8FxIS",
        "outputId": "98d900a1-bde7-405e-f76e-e88bb2db6af5"
      },
      "execution_count": 17,
      "outputs": [
        {
          "output_type": "execute_result",
          "data": {
            "text/plain": [
              "1"
            ]
          },
          "metadata": {},
          "execution_count": 17
        }
      ]
    },
    {
      "cell_type": "code",
      "source": [
        "np.argmin(arr)"
      ],
      "metadata": {
        "colab": {
          "base_uri": "https://localhost:8080/"
        },
        "id": "mYWGyqWaFzpU",
        "outputId": "8a921cb8-52b8-48af-aebc-6a54aa5132ba"
      },
      "execution_count": 18,
      "outputs": [
        {
          "output_type": "execute_result",
          "data": {
            "text/plain": [
              "15"
            ]
          },
          "metadata": {},
          "execution_count": 18
        }
      ]
    },
    {
      "cell_type": "markdown",
      "source": [
        "## Thrust sorting"
      ],
      "metadata": {
        "id": "i2n17E8WLTld"
      }
    },
    {
      "cell_type": "code",
      "source": [
        "import numpy as np\n",
        "import pycuda.gpuarray as gpuarray\n",
        "from pycuda.compiler import SourceModule\n",
        "import pycuda.autoinit"
      ],
      "metadata": {
        "id": "b1EKiPhRLWVY"
      },
      "execution_count": 19,
      "outputs": []
    },
    {
      "cell_type": "code",
      "source": [
        "module = SourceModule(\"\"\"\n",
        "#include <thrust/sort.h>\n",
        "#include <thrust/execution_policy.h>\n",
        "extern \"C\"{\n",
        "__global__ void sort_thrust(int num_component, int *arr){\n",
        "thrust::sort(thrust::device, arr, arr + num_component);\n",
        "}\n",
        "\n",
        "__global__ void sort_by_key_thrust(int num_component, int *key, int *arr){\n",
        "thrust::sort_by_key(thrust::device, key, key + num_component, arr);\n",
        "}\n",
        "}\n",
        "\"\"\", no_extern_c=True)"
      ],
      "metadata": {
        "id": "ASIBHps7LXOL"
      },
      "execution_count": 20,
      "outputs": []
    },
    {
      "cell_type": "code",
      "source": [
        "sort_thrust = module.get_function(\"sort_thrust\")\n",
        "sort_by_key_thrust = module.get_function(\"sort_by_key_thrust\")"
      ],
      "metadata": {
        "id": "8EZMHsvoLZot"
      },
      "execution_count": 21,
      "outputs": []
    },
    {
      "cell_type": "code",
      "source": [
        "nx = np.int32(6)\n",
        "arr = np.arange(nx, dtype=np.int32)"
      ],
      "metadata": {
        "id": "XEs_ogaNLeCc"
      },
      "execution_count": 22,
      "outputs": []
    },
    {
      "cell_type": "code",
      "source": [
        "np.random.shuffle(arr)"
      ],
      "metadata": {
        "id": "-syfoIz9LfyZ"
      },
      "execution_count": 23,
      "outputs": []
    },
    {
      "cell_type": "code",
      "source": [
        "arr"
      ],
      "metadata": {
        "colab": {
          "base_uri": "https://localhost:8080/"
        },
        "id": "B-BffNDELhZX",
        "outputId": "275df49e-1c07-4d30-d742-9d49aae932eb"
      },
      "execution_count": 24,
      "outputs": [
        {
          "output_type": "execute_result",
          "data": {
            "text/plain": [
              "array([5, 2, 1, 0, 4, 3], dtype=int32)"
            ]
          },
          "metadata": {},
          "execution_count": 24
        }
      ]
    },
    {
      "cell_type": "code",
      "source": [
        "arr_gpu = gpuarray.to_gpu(arr)\n",
        "arr_gpu2 = arr_gpu.copy()"
      ],
      "metadata": {
        "id": "nCi4fdWzLhx-"
      },
      "execution_count": 25,
      "outputs": []
    },
    {
      "cell_type": "code",
      "source": [
        "sort_thrust(nx, arr_gpu, block=(1, 1, 1), grid=(1, 1, 1))"
      ],
      "metadata": {
        "id": "Ril49ZW7LjpP"
      },
      "execution_count": 26,
      "outputs": []
    },
    {
      "cell_type": "code",
      "source": [
        "arr_gpu.get()"
      ],
      "metadata": {
        "colab": {
          "base_uri": "https://localhost:8080/"
        },
        "id": "T81394ShLk3N",
        "outputId": "97735bab-c403-43ee-a45b-388132a109a1"
      },
      "execution_count": 28,
      "outputs": [
        {
          "output_type": "execute_result",
          "data": {
            "text/plain": [
              "array([0, 1, 2, 3, 4, 5], dtype=int32)"
            ]
          },
          "metadata": {},
          "execution_count": 28
        }
      ]
    },
    {
      "cell_type": "code",
      "source": [
        "key = np.arange(nx, 0, -1, dtype=np.int32)"
      ],
      "metadata": {
        "id": "NO5i-QIoMRI9"
      },
      "execution_count": 30,
      "outputs": []
    },
    {
      "cell_type": "code",
      "source": [
        "key_gpu = gpuarray.to_gpu(key)"
      ],
      "metadata": {
        "id": "NfuKZp1CLmiT"
      },
      "execution_count": 31,
      "outputs": []
    },
    {
      "cell_type": "code",
      "source": [
        "sort_by_key_thrust(nx, key_gpu, arr_gpu2, block=(1, 1, 1), grid=(1, 1, 1))"
      ],
      "metadata": {
        "id": "1ezm-NFlMO4N"
      },
      "execution_count": 32,
      "outputs": []
    },
    {
      "cell_type": "code",
      "source": [
        "arr_gpu2.get()"
      ],
      "metadata": {
        "colab": {
          "base_uri": "https://localhost:8080/"
        },
        "id": "5hu6s53qMUQb",
        "outputId": "57d56f14-c456-4b54-efad-d39739f626f7"
      },
      "execution_count": 33,
      "outputs": [
        {
          "output_type": "execute_result",
          "data": {
            "text/plain": [
              "array([3, 4, 0, 1, 2, 5], dtype=int32)"
            ]
          },
          "metadata": {},
          "execution_count": 33
        }
      ]
    },
    {
      "cell_type": "code",
      "source": [
        "arr"
      ],
      "metadata": {
        "colab": {
          "base_uri": "https://localhost:8080/"
        },
        "id": "kiRdjNDmMWMX",
        "outputId": "2ac6515b-642d-433e-8514-a5dc91e36be5"
      },
      "execution_count": 34,
      "outputs": [
        {
          "output_type": "execute_result",
          "data": {
            "text/plain": [
              "array([5, 2, 1, 0, 4, 3], dtype=int32)"
            ]
          },
          "metadata": {},
          "execution_count": 34
        }
      ]
    },
    {
      "cell_type": "code",
      "source": [
        "key"
      ],
      "metadata": {
        "colab": {
          "base_uri": "https://localhost:8080/"
        },
        "id": "82JM5LovMYSi",
        "outputId": "d34bf182-0d93-4e91-c4fe-35567130f6fe"
      },
      "execution_count": 35,
      "outputs": [
        {
          "output_type": "execute_result",
          "data": {
            "text/plain": [
              "array([6, 5, 4, 3, 2, 1], dtype=int32)"
            ]
          },
          "metadata": {},
          "execution_count": 35
        }
      ]
    },
    {
      "cell_type": "markdown",
      "source": [
        "## template"
      ],
      "metadata": {
        "id": "KVMQOrtnuV5P"
      }
    },
    {
      "cell_type": "code",
      "source": [
        "import math\n",
        "import numpy as np\n",
        "import pycuda.gpuarray as gpuarray\n",
        "from pycuda.compiler import SourceModule\n",
        "import pycuda.autoinit"
      ],
      "metadata": {
        "id": "yuKoFZY4ua5g"
      },
      "execution_count": 3,
      "outputs": []
    },
    {
      "cell_type": "code",
      "source": [
        "module = SourceModule(\"\"\"\n",
        "template <class T>\n",
        "__device__ T add_two_vector(T x, T y){\n",
        "  return (x + y);\n",
        "}\n",
        "extern \"C\"{\n",
        "__global__ void add_two_vector_kernel(int nx, int *a, int *b, int *res){\n",
        "  int x = threadIdx.x + blockDim.x * blockIdx.x;\n",
        "  if (x < nx){\n",
        "    res[x] = add_two_vector<int>(a[x], b[x]);\n",
        "  }\n",
        "}\n",
        "}\n",
        "\"\"\", no_extern_c=True)\n"
      ],
      "metadata": {
        "id": "vHEyU61-uxtT"
      },
      "execution_count": 5,
      "outputs": []
    },
    {
      "cell_type": "code",
      "source": [
        "add_two_vector = module.get_function(\"add_two_vector_kernel\")"
      ],
      "metadata": {
        "id": "i2d4ollDHcaq"
      },
      "execution_count": 6,
      "outputs": []
    },
    {
      "cell_type": "code",
      "source": [
        "num_components = np.int32(10)\n",
        "x = np.arange(num_components, dtype=np.int32)"
      ],
      "metadata": {
        "id": "mhiCg_BgHz92"
      },
      "execution_count": 7,
      "outputs": []
    },
    {
      "cell_type": "code",
      "source": [
        "np.random.seed(42)\n",
        "y = np.random.randint(0, 10, num_components, dtype=np.int32)"
      ],
      "metadata": {
        "id": "oCCdsemdIHoP"
      },
      "execution_count": 8,
      "outputs": []
    },
    {
      "cell_type": "code",
      "source": [
        "x_gpu = gpuarray.to_gpu(x)\n",
        "y_gpu = gpuarray.to_gpu(y)"
      ],
      "metadata": {
        "id": "nb9gyL7xIRBM"
      },
      "execution_count": 9,
      "outputs": []
    },
    {
      "cell_type": "code",
      "source": [
        "res_gpu = gpuarray.zeros(num_components, dtype=np.int32)"
      ],
      "metadata": {
        "id": "lI1uUSfOIWL7"
      },
      "execution_count": 10,
      "outputs": []
    },
    {
      "cell_type": "code",
      "source": [
        "threads_per_block = (256, 1, 1)\n",
        "blocks_per_grid = (math.ceil(num_components/threads_per_block[0]), 1, 1)"
      ],
      "metadata": {
        "id": "cakEZg2QIcRH"
      },
      "execution_count": 12,
      "outputs": []
    },
    {
      "cell_type": "code",
      "source": [
        "add_two_vector(num_components, x_gpu, y_gpu, res_gpu, block=threads_per_block, grid=blocks_per_grid)"
      ],
      "metadata": {
        "id": "lejrFBLHIq5v"
      },
      "execution_count": 13,
      "outputs": []
    },
    {
      "cell_type": "code",
      "source": [
        "res_gpu.get()"
      ],
      "metadata": {
        "colab": {
          "base_uri": "https://localhost:8080/"
        },
        "id": "xjokgGLtI3Fg",
        "outputId": "1756167c-30bd-45ea-a6cd-6e52dc85679f"
      },
      "execution_count": 14,
      "outputs": [
        {
          "output_type": "execute_result",
          "data": {
            "text/plain": [
              "array([ 6,  4,  9,  7, 10, 14,  8, 13, 15, 13], dtype=int32)"
            ]
          },
          "metadata": {},
          "execution_count": 14
        }
      ]
    },
    {
      "cell_type": "code",
      "source": [
        "x + y"
      ],
      "metadata": {
        "colab": {
          "base_uri": "https://localhost:8080/"
        },
        "id": "rffrOt1yI4RK",
        "outputId": "d330924f-0806-470f-d82f-be5e711adccd"
      },
      "execution_count": 15,
      "outputs": [
        {
          "output_type": "execute_result",
          "data": {
            "text/plain": [
              "array([ 6,  4,  9,  7, 10, 14,  8, 13, 15, 13], dtype=int32)"
            ]
          },
          "metadata": {},
          "execution_count": 15
        }
      ]
    },
    {
      "cell_type": "markdown",
      "source": [
        "## dynamic parallelism"
      ],
      "metadata": {
        "id": "bvhTy6w5JXJP"
      }
    },
    {
      "cell_type": "code",
      "source": [
        "import math\n",
        "import numpy as np\n",
        "import pycuda.gpuarray as gpuarray\n",
        "from pycuda.compiler import DynamicSourceModule\n",
        "import pycuda.autoinit"
      ],
      "metadata": {
        "id": "2gZCdfW6Jh2Z"
      },
      "execution_count": 1,
      "outputs": []
    },
    {
      "cell_type": "code",
      "source": [
        "module = DynamicSourceModule(\"\"\"\n",
        "__global__ void add_two_vector(int nx, float *arr1, float *arr2, float *res){\n",
        "    int x = threadIdx.x + blockDim.x * blockIdx.x;\n",
        "    if (x < nx){\n",
        "        res[x] = arr1[x] + arr2[x];\n",
        "    }\n",
        "}\n",
        "__global__ void add_two_vector_dynamic(int *grid, int *block, int nx, float *arr1, float *arr2, float *res){\n",
        "dim3 grid_ = dim3(grid[0], grid[1], grid[2]);\n",
        "dim3 block_ = dim3(block[0], block[1], block[2]);\n",
        "add_two_vector<<<grid_, block_>>>(nx, arr1, arr2, res);\n",
        "}\n",
        "\"\"\")"
      ],
      "metadata": {
        "id": "HiTALvZTK6Gw"
      },
      "execution_count": 2,
      "outputs": []
    },
    {
      "cell_type": "code",
      "source": [
        "add_two_vector_dynamic = module.get_function(\"add_two_vector_dynamic\")"
      ],
      "metadata": {
        "id": "5VBNv6IyK8ZG"
      },
      "execution_count": 3,
      "outputs": []
    },
    {
      "cell_type": "code",
      "source": [
        "num_comp = np.int32(10)\n",
        "arr1 = np.arange(num_comp, dtype=np.float32)\n",
        "arr2 = np.arange(num_comp, dtype=np.float32)"
      ],
      "metadata": {
        "id": "zKr0OpbyK-b9"
      },
      "execution_count": 4,
      "outputs": []
    },
    {
      "cell_type": "code",
      "source": [
        "np.random.shuffle(arr2)"
      ],
      "metadata": {
        "id": "2Z_RoxWDK_mg"
      },
      "execution_count": 5,
      "outputs": []
    },
    {
      "cell_type": "code",
      "source": [
        "res_gpu = gpuarray.zeros(num_comp, dtype=np.float32)"
      ],
      "metadata": {
        "id": "YXHFqnEBLBPy"
      },
      "execution_count": 6,
      "outputs": []
    },
    {
      "cell_type": "code",
      "source": [
        "threads_per_block = (256, 1, 1)\n",
        "blocks_per_grid = (math.ceil(num_comp / threads_per_block[0]), 1, 1)"
      ],
      "metadata": {
        "id": "3kE3pEvgLChy"
      },
      "execution_count": 7,
      "outputs": []
    },
    {
      "cell_type": "code",
      "source": [
        "block = np.array(threads_per_block, dtype=np.int32)\n",
        "grid = np.array(blocks_per_grid, dtype=np.int32)"
      ],
      "metadata": {
        "id": "156sqKNkLMrI"
      },
      "execution_count": 8,
      "outputs": []
    },
    {
      "cell_type": "code",
      "source": [
        "arr1_gpu = gpuarray.to_gpu(arr1)\n",
        "arr2_gpu = gpuarray.to_gpu(arr2)\n",
        "block_gpu = gpuarray.to_gpu(block)\n",
        "grid_gpu = gpuarray.to_gpu(grid)"
      ],
      "metadata": {
        "id": "xpSjzGQ8LOHZ"
      },
      "execution_count": 9,
      "outputs": []
    },
    {
      "cell_type": "code",
      "source": [
        "add_two_vector_dynamic(grid_gpu, block_gpu, num_comp, arr1_gpu, arr2_gpu, res_gpu, block=(1, 1, 1), grid=(1, 1, 1))"
      ],
      "metadata": {
        "id": "xqzsIAV6LPZB"
      },
      "execution_count": 10,
      "outputs": []
    },
    {
      "cell_type": "code",
      "source": [
        "res_gpu.get()"
      ],
      "metadata": {
        "colab": {
          "base_uri": "https://localhost:8080/"
        },
        "id": "kjkLG3c_LQ3o",
        "outputId": "59fe07b9-8008-4016-b2cd-d506c8dbd766"
      },
      "execution_count": 11,
      "outputs": [
        {
          "output_type": "execute_result",
          "data": {
            "text/plain": [
              "array([ 9.,  4.,  9.,  5.,  4., 10., 14., 13., 12., 10.], dtype=float32)"
            ]
          },
          "metadata": {},
          "execution_count": 11
        }
      ]
    },
    {
      "cell_type": "code",
      "source": [
        "arr1 + arr2"
      ],
      "metadata": {
        "colab": {
          "base_uri": "https://localhost:8080/"
        },
        "id": "KnBtR_ExLSEs",
        "outputId": "1db616fe-c112-4e02-8108-ad0f8ccdff75"
      },
      "execution_count": 12,
      "outputs": [
        {
          "output_type": "execute_result",
          "data": {
            "text/plain": [
              "array([ 9.,  4.,  9.,  5.,  4., 10., 14., 13., 12., 10.], dtype=float32)"
            ]
          },
          "metadata": {},
          "execution_count": 12
        }
      ]
    }
  ]
}